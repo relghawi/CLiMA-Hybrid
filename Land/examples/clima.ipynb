{
 "cells": [
  {
   "cell_type": "code",
   "execution_count": null,
   "metadata": {},
   "outputs": [],
   "source": [
    "# Set JULIA_DEPOT_PATH\n",
    "ENV[\"JULIA_DEPOT_PATH\"] = \"/Net/Groups/BGI/scratch/relghawi/julia_atacama_depots\"\n",
    "\n",
    "# Set JULIA_PKG_USE_CLI_GIT\n",
    "ENV[\"JULIA_PKG_USE_CLI_GIT\"] = \"true\"\n",
    "\n",
    "\n"
   ]
  },
  {
   "cell_type": "code",
   "execution_count": null,
   "metadata": {},
   "outputs": [],
   "source": [
    "import Pkg\n",
    "Pkg.add(\"NCDatasets\")\n",
    "using NCDatasets"
   ]
  },
  {
   "cell_type": "code",
   "execution_count": null,
   "metadata": {},
   "outputs": [],
   "source": [
    "file_path = \"/Net/Groups/BGI/people/relghawi/Julia_hyb/Clima-Hyb2/Land/examples/debug.output.nc\"\n",
    "ncfile = Dataset(file_path)"
   ]
  },
  {
   "cell_type": "code",
   "execution_count": null,
   "metadata": {},
   "outputs": [],
   "source": [
    "using PyCall\n",
    "xr = pyimport(\"xarray\")\n",
    "np = pyimport(\"numpy\")"
   ]
  },
  {
   "cell_type": "code",
   "execution_count": null,
   "metadata": {},
   "outputs": [],
   "source": []
  }
 ],
 "metadata": {
  "kernelspec": {
   "display_name": "Julia 1.9.1",
   "language": "julia",
   "name": "julia-1.9"
  },
  "language_info": {
   "file_extension": ".jl",
   "mimetype": "application/julia",
   "name": "julia",
   "version": "1.9.1"
  },
  "orig_nbformat": 4
 },
 "nbformat": 4,
 "nbformat_minor": 2
}
